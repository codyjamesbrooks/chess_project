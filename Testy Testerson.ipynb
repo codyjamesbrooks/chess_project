{
 "cells": [
  {
   "cell_type": "code",
   "execution_count": 5,
   "metadata": {},
   "outputs": [],
   "source": [
    "from game_board import GameBoard"
   ]
  },
  {
   "cell_type": "code",
   "execution_count": 6,
   "metadata": {},
   "outputs": [],
   "source": [
    "board = GameBoard()"
   ]
  },
  {
   "cell_type": "code",
   "execution_count": 7,
   "metadata": {},
   "outputs": [
    {
     "name": "stdout",
     "output_type": "stream",
     "text": [
      "\u001b[47m\u001b[2m\u001b[32mA8     \u001b[0m\u001b[40m\u001b[2m\u001b[32mB8     \u001b[0m\u001b[47m\u001b[2m\u001b[32mC8     \u001b[0m\u001b[40m\u001b[2m\u001b[32mD8     \u001b[0m\u001b[47m\u001b[2m\u001b[32mE8     \u001b[0m\u001b[40m\u001b[2m\u001b[32mF8     \u001b[0m\u001b[47m\u001b[2m\u001b[32mG8     \u001b[0m\u001b[40m\u001b[2m\u001b[32mH8     \u001b[0m\t  A Helpful Guide To Entering Your Moves \n",
      "\u001b[47m  \u001b[1m     \u001b[0m\u001b[40m  \u001b[1m     \u001b[0m\u001b[47m  \u001b[1m     \u001b[0m\u001b[40m  \u001b[1m     \u001b[0m\u001b[47m  \u001b[1m     \u001b[0m\u001b[40m  \u001b[1m     \u001b[0m\u001b[47m  \u001b[1m     \u001b[0m\u001b[40m  \u001b[1m     \u001b[0m\t*****************************************\n",
      "\u001b[47m       \u001b[0m\u001b[40m       \u001b[0m\u001b[47m       \u001b[0m\u001b[40m       \u001b[0m\u001b[47m       \u001b[0m\u001b[40m       \u001b[0m\u001b[47m       \u001b[0m\u001b[40m       \u001b[0m\t        Syntax: From - Piece - To        \n",
      "\u001b[40m\u001b[2m\u001b[32mA7     \u001b[0m\u001b[47m\u001b[2m\u001b[32mB7     \u001b[0m\u001b[40m\u001b[2m\u001b[32mC7     \u001b[0m\u001b[47m\u001b[2m\u001b[32mD7     \u001b[0m\u001b[40m\u001b[2m\u001b[32mE7     \u001b[0m\u001b[47m\u001b[2m\u001b[32mF7     \u001b[0m\u001b[40m\u001b[2m\u001b[32mG7     \u001b[0m\u001b[47m\u001b[2m\u001b[32mH7     \u001b[0m\t**** Piece Names (Case Insensitive) ****\n",
      "\u001b[40m  \u001b[1m     \u001b[0m\u001b[47m  \u001b[1m     \u001b[0m\u001b[40m  \u001b[1m     \u001b[0m\u001b[47m  \u001b[1m     \u001b[0m\u001b[40m  \u001b[1m     \u001b[0m\u001b[47m  \u001b[1m     \u001b[0m\u001b[40m  \u001b[1m     \u001b[0m\u001b[47m  \u001b[1m     \u001b[0m\t      King: k       |      Queen: q      \n",
      "\u001b[40m       \u001b[0m\u001b[47m       \u001b[0m\u001b[40m       \u001b[0m\u001b[47m       \u001b[0m\u001b[40m       \u001b[0m\u001b[47m       \u001b[0m\u001b[40m       \u001b[0m\u001b[47m       \u001b[0m\t      Rook: r       |     Bishop: b      \n",
      "\u001b[47m\u001b[2m\u001b[32mA6     \u001b[0m\u001b[40m\u001b[2m\u001b[32mB6     \u001b[0m\u001b[47m\u001b[2m\u001b[32mC6     \u001b[0m\u001b[40m\u001b[2m\u001b[32mD6     \u001b[0m\u001b[47m\u001b[2m\u001b[32mE6     \u001b[0m\u001b[40m\u001b[2m\u001b[32mF6     \u001b[0m\u001b[47m\u001b[2m\u001b[32mG6     \u001b[0m\u001b[40m\u001b[2m\u001b[32mH6     \u001b[0m\t     Knight: n      |      Pawn: p       \n",
      "\u001b[47m  \u001b[1m     \u001b[0m\u001b[40m  \u001b[1m     \u001b[0m\u001b[47m  \u001b[1m     \u001b[0m\u001b[40m  \u001b[1m     \u001b[0m\u001b[47m  \u001b[1m     \u001b[0m\u001b[40m  \u001b[1m     \u001b[0m\u001b[47m  \u001b[1m     \u001b[0m\u001b[40m  \u001b[1m     \u001b[0m\t************* Sample Moves *************\n",
      "\u001b[47m       \u001b[0m\u001b[40m       \u001b[0m\u001b[47m       \u001b[0m\u001b[40m       \u001b[0m\u001b[47m       \u001b[0m\u001b[40m       \u001b[0m\u001b[47m       \u001b[0m\u001b[40m       \u001b[0m\t E2-p-E4  =>   Pawn at E2 move to E4\n",
      "\u001b[40m\u001b[2m\u001b[32mA5     \u001b[0m\u001b[47m\u001b[2m\u001b[32mB5     \u001b[0m\u001b[40m\u001b[2m\u001b[32mC5     \u001b[0m\u001b[47m\u001b[2m\u001b[32mD5     \u001b[0m\u001b[40m\u001b[2m\u001b[32mE5     \u001b[0m\u001b[47m\u001b[2m\u001b[32mF5     \u001b[0m\u001b[40m\u001b[2m\u001b[32mG5     \u001b[0m\u001b[47m\u001b[2m\u001b[32mH5     \u001b[0m\t F1-n-E3  =>   Knight at F1 move to E3\n",
      "\u001b[40m  \u001b[1m     \u001b[0m\u001b[47m  \u001b[1m     \u001b[0m\u001b[40m  \u001b[1m     \u001b[0m\u001b[47m  \u001b[1m     \u001b[0m\u001b[40m  \u001b[1m     \u001b[0m\u001b[47m  \u001b[1m     \u001b[0m\u001b[40m  \u001b[1m     \u001b[0m\u001b[47m  \u001b[1m     \u001b[0m\t E1-k-D1  =>   King at E1 move to D1\n",
      "\u001b[40m       \u001b[0m\u001b[47m       \u001b[0m\u001b[40m       \u001b[0m\u001b[47m       \u001b[0m\u001b[40m       \u001b[0m\u001b[47m       \u001b[0m\u001b[40m       \u001b[0m\u001b[47m       \u001b[0m\t************* Special Moves *************\n",
      "\u001b[47m\u001b[2m\u001b[32mA4     \u001b[0m\u001b[40m\u001b[2m\u001b[32mB4     \u001b[0m\u001b[47m\u001b[2m\u001b[32mC4     \u001b[0m\u001b[40m\u001b[2m\u001b[32mD4     \u001b[0m\u001b[47m\u001b[2m\u001b[32mE4     \u001b[0m\u001b[40m\u001b[2m\u001b[32mF4     \u001b[0m\u001b[47m\u001b[2m\u001b[32mG4     \u001b[0m\u001b[40m\u001b[2m\u001b[32mH4     \u001b[0m\t- Pawn Promotion:  Indicate returned piece\n",
      "\u001b[47m  \u001b[1m     \u001b[0m\u001b[40m  \u001b[1m     \u001b[0m\u001b[47m  \u001b[1m     \u001b[0m\u001b[40m  \u001b[1m     \u001b[0m\u001b[47m  \u001b[1m     \u001b[0m\u001b[40m  \u001b[1m     \u001b[0m\u001b[47m  \u001b[1m     \u001b[0m\u001b[40m  \u001b[1m     \u001b[0m\t B7-p-B8-q  =>   Promote pawn to queen\n",
      "\u001b[47m       \u001b[0m\u001b[40m       \u001b[0m\u001b[47m       \u001b[0m\u001b[40m       \u001b[0m\u001b[47m       \u001b[0m\u001b[40m       \u001b[0m\u001b[47m       \u001b[0m\u001b[40m       \u001b[0m\t- Castling : Use traditional notation \n",
      "\u001b[40m\u001b[2m\u001b[32mA3     \u001b[0m\u001b[47m\u001b[2m\u001b[32mB3     \u001b[0m\u001b[40m\u001b[2m\u001b[32mC3     \u001b[0m\u001b[47m\u001b[2m\u001b[32mD3     \u001b[0m\u001b[40m\u001b[2m\u001b[32mE3     \u001b[0m\u001b[47m\u001b[2m\u001b[32mF3     \u001b[0m\u001b[40m\u001b[2m\u001b[32mG3     \u001b[0m\u001b[47m\u001b[2m\u001b[32mH3     \u001b[0m\t    O-O  =>      Kingside Rook Castle\n",
      "\u001b[40m  \u001b[1m     \u001b[0m\u001b[47m  \u001b[1m     \u001b[0m\u001b[40m  \u001b[1m     \u001b[0m\u001b[47m  \u001b[1m     \u001b[0m\u001b[40m  \u001b[1m     \u001b[0m\u001b[47m  \u001b[1m     \u001b[0m\u001b[40m  \u001b[1m     \u001b[0m\u001b[47m  \u001b[1m     \u001b[0m\t   O-O-O  =>     Queenside Rook Castle\n",
      "\u001b[40m       \u001b[0m\u001b[47m       \u001b[0m\u001b[40m       \u001b[0m\u001b[47m       \u001b[0m\u001b[40m       \u001b[0m\u001b[47m       \u001b[0m\u001b[40m       \u001b[0m\u001b[47m       \u001b[0m\t********** Good Luck. Have Fun **********\n",
      "\u001b[47m\u001b[2m\u001b[32mA2     \u001b[0m\u001b[40m\u001b[2m\u001b[32mB2     \u001b[0m\u001b[47m\u001b[2m\u001b[32mC2     \u001b[0m\u001b[40m\u001b[2m\u001b[32mD2     \u001b[0m\u001b[47m\u001b[2m\u001b[32mE2     \u001b[0m\u001b[40m\u001b[2m\u001b[32mF2     \u001b[0m\u001b[47m\u001b[2m\u001b[32mG2     \u001b[0m\u001b[40m\u001b[2m\u001b[32mH2     \u001b[0m\n",
      "\u001b[47m  \u001b[1m     \u001b[0m\u001b[40m  \u001b[1m     \u001b[0m\u001b[47m  \u001b[1m     \u001b[0m\u001b[40m  \u001b[1m     \u001b[0m\u001b[47m  \u001b[1m     \u001b[0m\u001b[40m  \u001b[1m     \u001b[0m\u001b[47m  \u001b[1m     \u001b[0m\u001b[40m  \u001b[1m     \u001b[0m\n",
      "\u001b[47m       \u001b[0m\u001b[40m       \u001b[0m\u001b[47m       \u001b[0m\u001b[40m       \u001b[0m\u001b[47m       \u001b[0m\u001b[40m       \u001b[0m\u001b[47m       \u001b[0m\u001b[40m       \u001b[0m\n",
      "\u001b[40m\u001b[2m\u001b[32mA1     \u001b[0m\u001b[47m\u001b[2m\u001b[32mB1     \u001b[0m\u001b[40m\u001b[2m\u001b[32mC1     \u001b[0m\u001b[47m\u001b[2m\u001b[32mD1     \u001b[0m\u001b[40m\u001b[2m\u001b[32mE1     \u001b[0m\u001b[47m\u001b[2m\u001b[32mF1     \u001b[0m\u001b[40m\u001b[2m\u001b[32mG1     \u001b[0m\u001b[47m\u001b[2m\u001b[32mH1     \u001b[0m\n",
      "\u001b[40m  \u001b[1m     \u001b[0m\u001b[47m  \u001b[1m     \u001b[0m\u001b[40m  \u001b[1m     \u001b[0m\u001b[47m  \u001b[1m     \u001b[0m\u001b[40m  \u001b[1m     \u001b[0m\u001b[47m  \u001b[1m     \u001b[0m\u001b[40m  \u001b[1m     \u001b[0m\u001b[47m  \u001b[1m     \u001b[0m\n",
      "\u001b[40m       \u001b[0m\u001b[47m       \u001b[0m\u001b[40m       \u001b[0m\u001b[47m       \u001b[0m\u001b[40m       \u001b[0m\u001b[47m       \u001b[0m\u001b[40m       \u001b[0m\u001b[47m       \u001b[0m\n",
      "\n"
     ]
    }
   ],
   "source": [
    "print(board)"
   ]
  },
  {
   "cell_type": "code",
   "execution_count": null,
   "metadata": {},
   "outputs": [],
   "source": []
  }
 ],
 "metadata": {
  "kernelspec": {
   "display_name": "Python 3",
   "language": "python",
   "name": "python3"
  },
  "language_info": {
   "codemirror_mode": {
    "name": "ipython",
    "version": 3
   },
   "file_extension": ".py",
   "mimetype": "text/x-python",
   "name": "python",
   "nbconvert_exporter": "python",
   "pygments_lexer": "ipython3",
   "version": "3.8.3"
  }
 },
 "nbformat": 4,
 "nbformat_minor": 4
}
