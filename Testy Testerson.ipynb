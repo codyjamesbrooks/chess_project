{
 "cells": [
  {
   "cell_type": "code",
   "execution_count": 12,
   "metadata": {},
   "outputs": [],
   "source": [
    "# GameBoard Classes\n",
    "from chess.gameboard.empty_space import Empty_Space\n",
    "from chess.gameboard.square import Square\n",
    "from chess.gameboard.game_board import GameBoard\n",
    "\n",
    "# Piece Classes\n",
    "from chess.pieces.pawn import Pawn\n",
    "from chess.pieces.rook import Rook\n",
    "from chess.pieces.king import King\n",
    "from chess.pieces.bishop import Bishop\n",
    "from chess.pieces.knight import Knight\n",
    "from chess.pieces.queen import Queen"
   ]
  },
  {
   "cell_type": "code",
   "execution_count": 21,
   "metadata": {},
   "outputs": [
    {
     "name": "stdout",
     "output_type": "stream",
     "text": [
      "Empty Squares\n",
      "\u001b[47m\u001b[2m\u001b[32mA8     \u001b[0m \u001b[40m\u001b[2m\u001b[32mA7     \u001b[0m\n",
      "\u001b[47m  \u001b[1m     \u001b[0m \u001b[40m  \u001b[1m     \u001b[0m\n",
      "\u001b[47m       \u001b[0m \u001b[40m       \u001b[0m\n",
      "\n",
      "Red Pieces on white squares\n",
      "\u001b[47m\u001b[2m\u001b[32mA8     \u001b[0m \u001b[47m\u001b[2m\u001b[32mA8     \u001b[0m \u001b[47m\u001b[2m\u001b[32mA8     \u001b[0m \u001b[47m\u001b[2m\u001b[32mA8     \u001b[0m \u001b[47m\u001b[2m\u001b[32mA8     \u001b[0m \u001b[47m\u001b[2m\u001b[32mA8     \u001b[0m \n",
      "\u001b[47m  \u001b[31m\u001b[1m R   \u001b[0m \u001b[47m  \u001b[31m\u001b[1m N   \u001b[0m \u001b[47m  \u001b[31m\u001b[1m B   \u001b[0m \u001b[47m  \u001b[31m\u001b[1m Q   \u001b[0m \u001b[47m  \u001b[31m\u001b[1m K   \u001b[0m \u001b[47m  \u001b[31m\u001b[1m P   \u001b[0m \n",
      "\u001b[47m       \u001b[0m \u001b[47m       \u001b[0m \u001b[47m       \u001b[0m \u001b[47m       \u001b[0m \u001b[47m       \u001b[0m \u001b[47m       \u001b[0m \n",
      "\n",
      "Blue Pieces on white  squares\n",
      "\u001b[47m\u001b[2m\u001b[32mA8     \u001b[0m \u001b[47m\u001b[2m\u001b[32mA8     \u001b[0m \u001b[47m\u001b[2m\u001b[32mA8     \u001b[0m \u001b[47m\u001b[2m\u001b[32mA8     \u001b[0m \u001b[47m\u001b[2m\u001b[32mA8     \u001b[0m \u001b[47m\u001b[2m\u001b[32mA8     \u001b[0m \n",
      "\u001b[47m  \u001b[34m\u001b[1m R   \u001b[0m \u001b[47m  \u001b[34m\u001b[1m N   \u001b[0m \u001b[47m  \u001b[34m\u001b[1m B   \u001b[0m \u001b[47m  \u001b[34m\u001b[1m Q   \u001b[0m \u001b[47m  \u001b[34m\u001b[1m K   \u001b[0m \u001b[47m  \u001b[34m\u001b[1m P   \u001b[0m \n",
      "\u001b[47m       \u001b[0m \u001b[47m       \u001b[0m \u001b[47m       \u001b[0m \u001b[47m       \u001b[0m \u001b[47m       \u001b[0m \u001b[47m       \u001b[0m \n",
      "\n",
      "Red Pieces on black squares\n",
      "\u001b[40m\u001b[2m\u001b[32mA8     \u001b[0m \u001b[40m\u001b[2m\u001b[32mA8     \u001b[0m \u001b[40m\u001b[2m\u001b[32mA8     \u001b[0m \u001b[40m\u001b[2m\u001b[32mA8     \u001b[0m \u001b[40m\u001b[2m\u001b[32mA8     \u001b[0m \u001b[40m\u001b[2m\u001b[32mA8     \u001b[0m \n",
      "\u001b[40m  \u001b[31m\u001b[1m R   \u001b[0m \u001b[40m  \u001b[31m\u001b[1m N   \u001b[0m \u001b[40m  \u001b[31m\u001b[1m B   \u001b[0m \u001b[40m  \u001b[31m\u001b[1m Q   \u001b[0m \u001b[40m  \u001b[31m\u001b[1m K   \u001b[0m \u001b[40m  \u001b[31m\u001b[1m P   \u001b[0m \n",
      "\u001b[40m       \u001b[0m \u001b[40m       \u001b[0m \u001b[40m       \u001b[0m \u001b[40m       \u001b[0m \u001b[40m       \u001b[0m \u001b[40m       \u001b[0m \n",
      "\n",
      "Blue Pieces on black squares\n",
      "\u001b[40m\u001b[2m\u001b[32mA8     \u001b[0m \u001b[40m\u001b[2m\u001b[32mA8     \u001b[0m \u001b[40m\u001b[2m\u001b[32mA8     \u001b[0m \u001b[40m\u001b[2m\u001b[32mA8     \u001b[0m \u001b[40m\u001b[2m\u001b[32mA8     \u001b[0m \u001b[40m\u001b[2m\u001b[32mA8     \u001b[0m \n",
      "\u001b[40m  \u001b[34m\u001b[1m R   \u001b[0m \u001b[40m  \u001b[34m\u001b[1m N   \u001b[0m \u001b[40m  \u001b[34m\u001b[1m B   \u001b[0m \u001b[40m  \u001b[34m\u001b[1m Q   \u001b[0m \u001b[40m  \u001b[34m\u001b[1m K   \u001b[0m \u001b[40m  \u001b[34m\u001b[1m P   \u001b[0m \n",
      "\u001b[40m       \u001b[0m \u001b[40m       \u001b[0m \u001b[40m       \u001b[0m \u001b[40m       \u001b[0m \u001b[40m       \u001b[0m \u001b[40m       \u001b[0m \n",
      "\n"
     ]
    }
   ],
   "source": [
    "# Test the look of all the possible squares\n",
    "\n",
    "test_blank_squares = [\"\", \"\", \"\"]\n",
    "white_square = Square(\"white\", \"A8\")\n",
    "black_square = Square(\"black\", \"A7\")\n",
    "\n",
    "test_blank_squares = [x + y + \" \" + z for x, y, z in zip(test_blank_squares, \n",
    "                                                           white_square.assemble_square(), \n",
    "                                                           black_square.assemble_square())]\n",
    "\n",
    "print(\"Empty Squares\")\n",
    "print(\"\\n\".join(test_blank_squares), end=\"\\n\\n\")\n",
    "\n",
    "red_on_white = [\"\", \"\", \"\"]\n",
    "blue_on_white = [\"\", \"\", \"\"]\n",
    "red_on_black = [\"\", \"\", \"\"]\n",
    "blue_on_black = [\"\", \"\", \"\"]\n",
    "\n",
    "possible_pieces = [Rook, Knight, Bishop, Queen, King, Pawn]\n",
    "for piece in possible_pieces: \n",
    "    red_on_white = [x + y + \" \" for x, y in zip(red_on_white, \n",
    "                                               Square(\"white\", \"A8\", piece(\"red\")).assemble_square())]\n",
    "    blue_on_white = [x + y + \" \" for x, y in zip(blue_on_white, \n",
    "                                               Square(\"white\", \"A8\", piece(\"blue\")).assemble_square())]\n",
    "    red_on_black = [x + y + \" \" for x, y in zip(red_on_black, \n",
    "                                               Square(\"black\", \"A8\", piece(\"red\")).assemble_square())]\n",
    "    blue_on_black = [x + y + \" \" for x, y in zip(blue_on_black, \n",
    "                                               Square(\"black\", \"A8\", piece(\"blue\")).assemble_square())]\n",
    "    \n",
    "    \n",
    "print(\"Red Pieces on white squares\")\n",
    "print(\"\\n\".join(red_on_white), end=\"\\n\\n\")\n",
    "print(\"Blue Pieces on white  squares\")\n",
    "print(\"\\n\".join(blue_on_white), end=\"\\n\\n\")\n",
    "print(\"Red Pieces on black squares\")\n",
    "print(\"\\n\".join(red_on_black), end=\"\\n\\n\")\n",
    "print(\"Blue Pieces on black squares\")\n",
    "print(\"\\n\".join(blue_on_black), end=\"\\n\\n\")"
   ]
  },
  {
   "cell_type": "code",
   "execution_count": null,
   "metadata": {},
   "outputs": [],
   "source": []
  }
 ],
 "metadata": {
  "kernelspec": {
   "display_name": "Python 3",
   "language": "python",
   "name": "python3"
  },
  "language_info": {
   "codemirror_mode": {
    "name": "ipython",
    "version": 3
   },
   "file_extension": ".py",
   "mimetype": "text/x-python",
   "name": "python",
   "nbconvert_exporter": "python",
   "pygments_lexer": "ipython3",
   "version": "3.8.3"
  }
 },
 "nbformat": 4,
 "nbformat_minor": 4
}
