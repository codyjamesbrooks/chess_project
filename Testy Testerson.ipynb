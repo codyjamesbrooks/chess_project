{
 "cells": [
  {
   "cell_type": "code",
   "execution_count": 1,
   "metadata": {},
   "outputs": [],
   "source": [
    "# GameBoard Classes\n",
    "from chess.gameboard.empty_space import Empty_Space\n",
    "from chess.gameboard.square import Square\n",
    "from chess.gameboard.game_board import GameBoard\n",
    "\n",
    "# Piece Classes\n",
    "from chess.pieces.pawn import Pawn\n",
    "from chess.pieces.rook import Rook\n",
    "from chess.pieces.king import King\n",
    "from chess.pieces.bishop import Bishop\n",
    "from chess.pieces.knight import Knight\n",
    "from chess.pieces.queen import Queen\n",
    "\n",
    "from test.test_boards.test_boards import test_boards"
   ]
  },
  {
   "cell_type": "code",
   "execution_count": 2,
   "metadata": {},
   "outputs": [
    {
     "name": "stdout",
     "output_type": "stream",
     "text": [
      "Empty Squares\n",
      "\u001b[47m\u001b[2m\u001b[32mA8     \u001b[0m \u001b[40m\u001b[2m\u001b[32mA7     \u001b[0m\n",
      "\u001b[47m  \u001b[1m     \u001b[0m \u001b[40m  \u001b[1m     \u001b[0m\n",
      "\u001b[47m       \u001b[0m \u001b[40m       \u001b[0m\n",
      "\n",
      "Red Pieces on white squares\n",
      "\u001b[47m\u001b[2m\u001b[32mA8     \u001b[0m \u001b[47m\u001b[2m\u001b[32mA8     \u001b[0m \u001b[47m\u001b[2m\u001b[32mA8     \u001b[0m \u001b[47m\u001b[2m\u001b[32mA8     \u001b[0m \u001b[47m\u001b[2m\u001b[32mA8     \u001b[0m \u001b[47m\u001b[2m\u001b[32mA8     \u001b[0m \n",
      "\u001b[47m  \u001b[31m\u001b[1m R   \u001b[0m \u001b[47m  \u001b[31m\u001b[1m N   \u001b[0m \u001b[47m  \u001b[31m\u001b[1m B   \u001b[0m \u001b[47m  \u001b[31m\u001b[1m Q   \u001b[0m \u001b[47m  \u001b[31m\u001b[1m K   \u001b[0m \u001b[47m  \u001b[31m\u001b[1m P   \u001b[0m \n",
      "\u001b[47m       \u001b[0m \u001b[47m       \u001b[0m \u001b[47m       \u001b[0m \u001b[47m       \u001b[0m \u001b[47m       \u001b[0m \u001b[47m       \u001b[0m \n",
      "\n",
      "Blue Pieces on white  squares\n",
      "\u001b[47m\u001b[2m\u001b[32mA8     \u001b[0m \u001b[47m\u001b[2m\u001b[32mA8     \u001b[0m \u001b[47m\u001b[2m\u001b[32mA8     \u001b[0m \u001b[47m\u001b[2m\u001b[32mA8     \u001b[0m \u001b[47m\u001b[2m\u001b[32mA8     \u001b[0m \u001b[47m\u001b[2m\u001b[32mA8     \u001b[0m \n",
      "\u001b[47m  \u001b[34m\u001b[1m R   \u001b[0m \u001b[47m  \u001b[34m\u001b[1m N   \u001b[0m \u001b[47m  \u001b[34m\u001b[1m B   \u001b[0m \u001b[47m  \u001b[34m\u001b[1m Q   \u001b[0m \u001b[47m  \u001b[34m\u001b[1m K   \u001b[0m \u001b[47m  \u001b[34m\u001b[1m P   \u001b[0m \n",
      "\u001b[47m       \u001b[0m \u001b[47m       \u001b[0m \u001b[47m       \u001b[0m \u001b[47m       \u001b[0m \u001b[47m       \u001b[0m \u001b[47m       \u001b[0m \n",
      "\n",
      "Red Pieces on black squares\n",
      "\u001b[40m\u001b[2m\u001b[32mA8     \u001b[0m \u001b[40m\u001b[2m\u001b[32mA8     \u001b[0m \u001b[40m\u001b[2m\u001b[32mA8     \u001b[0m \u001b[40m\u001b[2m\u001b[32mA8     \u001b[0m \u001b[40m\u001b[2m\u001b[32mA8     \u001b[0m \u001b[40m\u001b[2m\u001b[32mA8     \u001b[0m \n",
      "\u001b[40m  \u001b[31m\u001b[1m R   \u001b[0m \u001b[40m  \u001b[31m\u001b[1m N   \u001b[0m \u001b[40m  \u001b[31m\u001b[1m B   \u001b[0m \u001b[40m  \u001b[31m\u001b[1m Q   \u001b[0m \u001b[40m  \u001b[31m\u001b[1m K   \u001b[0m \u001b[40m  \u001b[31m\u001b[1m P   \u001b[0m \n",
      "\u001b[40m       \u001b[0m \u001b[40m       \u001b[0m \u001b[40m       \u001b[0m \u001b[40m       \u001b[0m \u001b[40m       \u001b[0m \u001b[40m       \u001b[0m \n",
      "\n",
      "Blue Pieces on black squares\n",
      "\u001b[40m\u001b[2m\u001b[32mA8     \u001b[0m \u001b[40m\u001b[2m\u001b[32mA8     \u001b[0m \u001b[40m\u001b[2m\u001b[32mA8     \u001b[0m \u001b[40m\u001b[2m\u001b[32mA8     \u001b[0m \u001b[40m\u001b[2m\u001b[32mA8     \u001b[0m \u001b[40m\u001b[2m\u001b[32mA8     \u001b[0m \n",
      "\u001b[40m  \u001b[34m\u001b[1m R   \u001b[0m \u001b[40m  \u001b[34m\u001b[1m N   \u001b[0m \u001b[40m  \u001b[34m\u001b[1m B   \u001b[0m \u001b[40m  \u001b[34m\u001b[1m Q   \u001b[0m \u001b[40m  \u001b[34m\u001b[1m K   \u001b[0m \u001b[40m  \u001b[34m\u001b[1m P   \u001b[0m \n",
      "\u001b[40m       \u001b[0m \u001b[40m       \u001b[0m \u001b[40m       \u001b[0m \u001b[40m       \u001b[0m \u001b[40m       \u001b[0m \u001b[40m       \u001b[0m \n",
      "\n"
     ]
    }
   ],
   "source": [
    "# Test the look of all the possible squares\n",
    "\n",
    "test_blank_squares = [\"\", \"\", \"\"]\n",
    "white_square = Square(\"white\", \"A8\")\n",
    "black_square = Square(\"black\", \"A7\")\n",
    "\n",
    "test_blank_squares = [x + y + \" \" + z for x, y, z in zip(test_blank_squares, \n",
    "                                                           white_square.assemble_square(), \n",
    "                                                           black_square.assemble_square())]\n",
    "\n",
    "print(\"Empty Squares\")\n",
    "print(\"\\n\".join(test_blank_squares), end=\"\\n\\n\")\n",
    "\n",
    "red_on_white = [\"\", \"\", \"\"]\n",
    "blue_on_white = [\"\", \"\", \"\"]\n",
    "red_on_black = [\"\", \"\", \"\"]\n",
    "blue_on_black = [\"\", \"\", \"\"]\n",
    "\n",
    "possible_pieces = [Rook, Knight, Bishop, Queen, King, Pawn]\n",
    "for piece in possible_pieces: \n",
    "    red_on_white = [x + y + \" \" for x, y in zip(red_on_white, \n",
    "                                               Square(\"white\", \"A8\", piece(\"red\", \"A8\")).assemble_square())]\n",
    "    blue_on_white = [x + y + \" \" for x, y in zip(blue_on_white, \n",
    "                                               Square(\"white\", \"A8\", piece(\"blue\", \"A8\")).assemble_square())]\n",
    "    red_on_black = [x + y + \" \" for x, y in zip(red_on_black, \n",
    "                                               Square(\"black\", \"A8\", piece(\"red\", \"A8\")).assemble_square())]\n",
    "    blue_on_black = [x + y + \" \" for x, y in zip(blue_on_black, \n",
    "                                               Square(\"black\", \"A8\", piece(\"blue\", \"A8\")).assemble_square())]\n",
    "    \n",
    "    \n",
    "print(\"Red Pieces on white squares\")\n",
    "print(\"\\n\".join(red_on_white), end=\"\\n\\n\")\n",
    "print(\"Blue Pieces on white  squares\")\n",
    "print(\"\\n\".join(blue_on_white), end=\"\\n\\n\")\n",
    "print(\"Red Pieces on black squares\")\n",
    "print(\"\\n\".join(red_on_black), end=\"\\n\\n\")\n",
    "print(\"Blue Pieces on black squares\")\n",
    "print(\"\\n\".join(blue_on_black), end=\"\\n\\n\")"
   ]
  },
  {
   "cell_type": "code",
   "execution_count": 3,
   "metadata": {},
   "outputs": [
    {
     "name": "stdout",
     "output_type": "stream",
     "text": [
      "\u001b[47m\u001b[2m\u001b[32mA8     \u001b[0m\u001b[40m\u001b[2m\u001b[32mB8     \u001b[0m\u001b[47m\u001b[2m\u001b[32mC8     \u001b[0m\u001b[40m\u001b[2m\u001b[32mD8     \u001b[0m\u001b[47m\u001b[2m\u001b[32mE8     \u001b[0m\u001b[40m\u001b[2m\u001b[32mF8     \u001b[0m\u001b[47m\u001b[2m\u001b[32mG8     \u001b[0m\u001b[40m\u001b[2m\u001b[32mH8     \u001b[0m\t  A Helpful Guide To Entering Your Moves \n",
      "\u001b[47m  \u001b[34m\u001b[1m R   \u001b[0m\u001b[40m  \u001b[34m\u001b[1m N   \u001b[0m\u001b[47m  \u001b[34m\u001b[1m B   \u001b[0m\u001b[40m  \u001b[34m\u001b[1m Q   \u001b[0m\u001b[47m  \u001b[34m\u001b[1m K   \u001b[0m\u001b[40m  \u001b[34m\u001b[1m B   \u001b[0m\u001b[47m  \u001b[34m\u001b[1m N   \u001b[0m\u001b[40m  \u001b[34m\u001b[1m R   \u001b[0m\t*****************************************\n",
      "\u001b[47m       \u001b[0m\u001b[40m       \u001b[0m\u001b[47m       \u001b[0m\u001b[40m       \u001b[0m\u001b[47m       \u001b[0m\u001b[40m       \u001b[0m\u001b[47m       \u001b[0m\u001b[40m       \u001b[0m\t        Syntax: From - Piece - To        \n",
      "\u001b[40m\u001b[2m\u001b[32mA7     \u001b[0m\u001b[47m\u001b[2m\u001b[32mB7     \u001b[0m\u001b[40m\u001b[2m\u001b[32mC7     \u001b[0m\u001b[47m\u001b[2m\u001b[32mD7     \u001b[0m\u001b[40m\u001b[2m\u001b[32mE7     \u001b[0m\u001b[47m\u001b[2m\u001b[32mF7     \u001b[0m\u001b[40m\u001b[2m\u001b[32mG7     \u001b[0m\u001b[47m\u001b[2m\u001b[32mH7     \u001b[0m\t**** Piece Names (Case Insensitive) ****\n",
      "\u001b[40m  \u001b[34m\u001b[1m P   \u001b[0m\u001b[47m  \u001b[34m\u001b[1m P   \u001b[0m\u001b[40m  \u001b[34m\u001b[1m P   \u001b[0m\u001b[47m  \u001b[34m\u001b[1m P   \u001b[0m\u001b[40m  \u001b[34m\u001b[1m P   \u001b[0m\u001b[47m  \u001b[34m\u001b[1m P   \u001b[0m\u001b[40m  \u001b[34m\u001b[1m P   \u001b[0m\u001b[47m  \u001b[34m\u001b[1m P   \u001b[0m\t      King: k       |      Queen: q      \n",
      "\u001b[40m       \u001b[0m\u001b[47m       \u001b[0m\u001b[40m       \u001b[0m\u001b[47m       \u001b[0m\u001b[40m       \u001b[0m\u001b[47m       \u001b[0m\u001b[40m       \u001b[0m\u001b[47m       \u001b[0m\t      Rook: r       |     Bishop: b      \n",
      "\u001b[47m\u001b[2m\u001b[32mA6     \u001b[0m\u001b[40m\u001b[2m\u001b[32mB6     \u001b[0m\u001b[47m\u001b[2m\u001b[32mC6     \u001b[0m\u001b[40m\u001b[2m\u001b[32mD6     \u001b[0m\u001b[47m\u001b[2m\u001b[32mE6     \u001b[0m\u001b[40m\u001b[2m\u001b[32mF6     \u001b[0m\u001b[47m\u001b[2m\u001b[32mG6     \u001b[0m\u001b[40m\u001b[2m\u001b[32mH6     \u001b[0m\t     Knight: n      |      Pawn: p       \n",
      "\u001b[47m  \u001b[1m     \u001b[0m\u001b[40m  \u001b[1m     \u001b[0m\u001b[47m  \u001b[1m     \u001b[0m\u001b[40m  \u001b[1m     \u001b[0m\u001b[47m  \u001b[1m     \u001b[0m\u001b[40m  \u001b[1m     \u001b[0m\u001b[47m  \u001b[1m     \u001b[0m\u001b[40m  \u001b[1m     \u001b[0m\t************* Sample Moves *************\n",
      "\u001b[47m       \u001b[0m\u001b[40m       \u001b[0m\u001b[47m       \u001b[0m\u001b[40m       \u001b[0m\u001b[47m       \u001b[0m\u001b[40m       \u001b[0m\u001b[47m       \u001b[0m\u001b[40m       \u001b[0m\t E2-p-E4  =>   Pawn at E2 move to E4\n",
      "\u001b[40m\u001b[2m\u001b[32mA5     \u001b[0m\u001b[47m\u001b[2m\u001b[32mB5     \u001b[0m\u001b[40m\u001b[2m\u001b[32mC5     \u001b[0m\u001b[47m\u001b[2m\u001b[32mD5     \u001b[0m\u001b[40m\u001b[2m\u001b[32mE5     \u001b[0m\u001b[47m\u001b[2m\u001b[32mF5     \u001b[0m\u001b[40m\u001b[2m\u001b[32mG5     \u001b[0m\u001b[47m\u001b[2m\u001b[32mH5     \u001b[0m\t F1-n-E3  =>   Knight at F1 move to E3\n",
      "\u001b[40m  \u001b[1m     \u001b[0m\u001b[47m  \u001b[1m     \u001b[0m\u001b[40m  \u001b[1m     \u001b[0m\u001b[47m  \u001b[1m     \u001b[0m\u001b[40m  \u001b[1m     \u001b[0m\u001b[47m  \u001b[1m     \u001b[0m\u001b[40m  \u001b[1m     \u001b[0m\u001b[47m  \u001b[1m     \u001b[0m\t E1-k-D1  =>   King at E1 move to D1\n",
      "\u001b[40m       \u001b[0m\u001b[47m       \u001b[0m\u001b[40m       \u001b[0m\u001b[47m       \u001b[0m\u001b[40m       \u001b[0m\u001b[47m       \u001b[0m\u001b[40m       \u001b[0m\u001b[47m       \u001b[0m\t************* Special Moves *************\n",
      "\u001b[47m\u001b[2m\u001b[32mA4     \u001b[0m\u001b[40m\u001b[2m\u001b[32mB4     \u001b[0m\u001b[47m\u001b[2m\u001b[32mC4     \u001b[0m\u001b[40m\u001b[2m\u001b[32mD4     \u001b[0m\u001b[47m\u001b[2m\u001b[32mE4     \u001b[0m\u001b[40m\u001b[2m\u001b[32mF4     \u001b[0m\u001b[47m\u001b[2m\u001b[32mG4     \u001b[0m\u001b[40m\u001b[2m\u001b[32mH4     \u001b[0m\t- Pawn Promotion:  Indicate returned piece\n",
      "\u001b[47m  \u001b[1m     \u001b[0m\u001b[40m  \u001b[1m     \u001b[0m\u001b[47m  \u001b[1m     \u001b[0m\u001b[40m  \u001b[1m     \u001b[0m\u001b[47m  \u001b[1m     \u001b[0m\u001b[40m  \u001b[1m     \u001b[0m\u001b[47m  \u001b[1m     \u001b[0m\u001b[40m  \u001b[1m     \u001b[0m\t B7-p-B8-q  =>   Promote pawn to queen\n",
      "\u001b[47m       \u001b[0m\u001b[40m       \u001b[0m\u001b[47m       \u001b[0m\u001b[40m       \u001b[0m\u001b[47m       \u001b[0m\u001b[40m       \u001b[0m\u001b[47m       \u001b[0m\u001b[40m       \u001b[0m\t- Castling : Use traditional notation \n",
      "\u001b[40m\u001b[2m\u001b[32mA3     \u001b[0m\u001b[47m\u001b[2m\u001b[32mB3     \u001b[0m\u001b[40m\u001b[2m\u001b[32mC3     \u001b[0m\u001b[47m\u001b[2m\u001b[32mD3     \u001b[0m\u001b[40m\u001b[2m\u001b[32mE3     \u001b[0m\u001b[47m\u001b[2m\u001b[32mF3     \u001b[0m\u001b[40m\u001b[2m\u001b[32mG3     \u001b[0m\u001b[47m\u001b[2m\u001b[32mH3     \u001b[0m\t    O-O  =>      Kingside Rook Castle\n",
      "\u001b[40m  \u001b[1m     \u001b[0m\u001b[47m  \u001b[1m     \u001b[0m\u001b[40m  \u001b[1m     \u001b[0m\u001b[47m  \u001b[1m     \u001b[0m\u001b[40m  \u001b[1m     \u001b[0m\u001b[47m  \u001b[1m     \u001b[0m\u001b[40m  \u001b[1m     \u001b[0m\u001b[47m  \u001b[1m     \u001b[0m\t   O-O-O  =>     Queenside Rook Castle\n",
      "\u001b[40m       \u001b[0m\u001b[47m       \u001b[0m\u001b[40m       \u001b[0m\u001b[47m       \u001b[0m\u001b[40m       \u001b[0m\u001b[47m       \u001b[0m\u001b[40m       \u001b[0m\u001b[47m       \u001b[0m\t********** Good Luck. Have Fun **********\n",
      "\u001b[47m\u001b[2m\u001b[32mA2     \u001b[0m\u001b[40m\u001b[2m\u001b[32mB2     \u001b[0m\u001b[47m\u001b[2m\u001b[32mC2     \u001b[0m\u001b[40m\u001b[2m\u001b[32mD2     \u001b[0m\u001b[47m\u001b[2m\u001b[32mE2     \u001b[0m\u001b[40m\u001b[2m\u001b[32mF2     \u001b[0m\u001b[47m\u001b[2m\u001b[32mG2     \u001b[0m\u001b[40m\u001b[2m\u001b[32mH2     \u001b[0m\n",
      "\u001b[47m  \u001b[31m\u001b[1m P   \u001b[0m\u001b[40m  \u001b[31m\u001b[1m P   \u001b[0m\u001b[47m  \u001b[31m\u001b[1m P   \u001b[0m\u001b[40m  \u001b[31m\u001b[1m P   \u001b[0m\u001b[47m  \u001b[31m\u001b[1m P   \u001b[0m\u001b[40m  \u001b[31m\u001b[1m P   \u001b[0m\u001b[47m  \u001b[31m\u001b[1m P   \u001b[0m\u001b[40m  \u001b[31m\u001b[1m P   \u001b[0m\n",
      "\u001b[47m       \u001b[0m\u001b[40m       \u001b[0m\u001b[47m       \u001b[0m\u001b[40m       \u001b[0m\u001b[47m       \u001b[0m\u001b[40m       \u001b[0m\u001b[47m       \u001b[0m\u001b[40m       \u001b[0m\n",
      "\u001b[40m\u001b[2m\u001b[32mA1     \u001b[0m\u001b[47m\u001b[2m\u001b[32mB1     \u001b[0m\u001b[40m\u001b[2m\u001b[32mC1     \u001b[0m\u001b[47m\u001b[2m\u001b[32mD1     \u001b[0m\u001b[40m\u001b[2m\u001b[32mE1     \u001b[0m\u001b[47m\u001b[2m\u001b[32mF1     \u001b[0m\u001b[40m\u001b[2m\u001b[32mG1     \u001b[0m\u001b[47m\u001b[2m\u001b[32mH1     \u001b[0m\n",
      "\u001b[40m  \u001b[31m\u001b[1m R   \u001b[0m\u001b[47m  \u001b[31m\u001b[1m N   \u001b[0m\u001b[40m  \u001b[31m\u001b[1m B   \u001b[0m\u001b[47m  \u001b[31m\u001b[1m Q   \u001b[0m\u001b[40m  \u001b[31m\u001b[1m K   \u001b[0m\u001b[47m  \u001b[31m\u001b[1m B   \u001b[0m\u001b[40m  \u001b[31m\u001b[1m N   \u001b[0m\u001b[47m  \u001b[31m\u001b[1m R   \u001b[0m\n",
      "\u001b[40m       \u001b[0m\u001b[47m       \u001b[0m\u001b[40m       \u001b[0m\u001b[47m       \u001b[0m\u001b[40m       \u001b[0m\u001b[47m       \u001b[0m\u001b[40m       \u001b[0m\u001b[47m       \u001b[0m\n",
      "\n"
     ]
    }
   ],
   "source": [
    "inital_setup_string = test_boards[0]\n",
    "game_board_inital = GameBoard(inital_setup_string)\n",
    "print(game_board_inital)"
   ]
  },
  {
   "cell_type": "code",
   "execution_count": 4,
   "metadata": {
    "scrolled": false
   },
   "outputs": [
    {
     "name": "stdout",
     "output_type": "stream",
     "text": [
      "\u001b[47m\u001b[2m\u001b[32mA8     \u001b[0m\u001b[40m\u001b[2m\u001b[32mB8     \u001b[0m\u001b[47m\u001b[2m\u001b[32mC8     \u001b[0m\u001b[40m\u001b[2m\u001b[32mD8     \u001b[0m\u001b[47m\u001b[2m\u001b[32mE8     \u001b[0m\u001b[40m\u001b[2m\u001b[32mF8     \u001b[0m\u001b[47m\u001b[2m\u001b[32mG8     \u001b[0m\u001b[40m\u001b[2m\u001b[32mH8     \u001b[0m\t  A Helpful Guide To Entering Your Moves \n",
      "\u001b[47m  \u001b[34m\u001b[1m R   \u001b[0m\u001b[40m  \u001b[1m     \u001b[0m\u001b[47m  \u001b[1m     \u001b[0m\u001b[40m  \u001b[34m\u001b[1m Q   \u001b[0m\u001b[47m  \u001b[34m\u001b[1m B   \u001b[0m\u001b[40m  \u001b[1m     \u001b[0m\u001b[47m  \u001b[34m\u001b[1m R   \u001b[0m\u001b[40m  \u001b[34m\u001b[1m K   \u001b[0m\t*****************************************\n",
      "\u001b[47m       \u001b[0m\u001b[40m       \u001b[0m\u001b[47m       \u001b[0m\u001b[40m       \u001b[0m\u001b[47m       \u001b[0m\u001b[40m       \u001b[0m\u001b[47m       \u001b[0m\u001b[40m       \u001b[0m\t        Syntax: From - Piece - To        \n",
      "\u001b[40m\u001b[2m\u001b[32mA7     \u001b[0m\u001b[47m\u001b[2m\u001b[32mB7     \u001b[0m\u001b[40m\u001b[2m\u001b[32mC7     \u001b[0m\u001b[47m\u001b[2m\u001b[32mD7     \u001b[0m\u001b[40m\u001b[2m\u001b[32mE7     \u001b[0m\u001b[47m\u001b[2m\u001b[32mF7     \u001b[0m\u001b[40m\u001b[2m\u001b[32mG7     \u001b[0m\u001b[47m\u001b[2m\u001b[32mH7     \u001b[0m\t**** Piece Names (Case Insensitive) ****\n",
      "\u001b[40m  \u001b[34m\u001b[1m P   \u001b[0m\u001b[47m  \u001b[34m\u001b[1m P   \u001b[0m\u001b[40m  \u001b[34m\u001b[1m B   \u001b[0m\u001b[47m  \u001b[1m     \u001b[0m\u001b[40m  \u001b[1m     \u001b[0m\u001b[47m  \u001b[34m\u001b[1m P   \u001b[0m\u001b[40m  \u001b[1m     \u001b[0m\u001b[47m  \u001b[34m\u001b[1m P   \u001b[0m\t      King: k       |      Queen: q      \n",
      "\u001b[40m       \u001b[0m\u001b[47m       \u001b[0m\u001b[40m       \u001b[0m\u001b[47m       \u001b[0m\u001b[40m       \u001b[0m\u001b[47m       \u001b[0m\u001b[40m       \u001b[0m\u001b[47m       \u001b[0m\t      Rook: r       |     Bishop: b      \n",
      "\u001b[47m\u001b[2m\u001b[32mA6     \u001b[0m\u001b[40m\u001b[2m\u001b[32mB6     \u001b[0m\u001b[47m\u001b[2m\u001b[32mC6     \u001b[0m\u001b[40m\u001b[2m\u001b[32mD6     \u001b[0m\u001b[47m\u001b[2m\u001b[32mE6     \u001b[0m\u001b[40m\u001b[2m\u001b[32mF6     \u001b[0m\u001b[47m\u001b[2m\u001b[32mG6     \u001b[0m\u001b[40m\u001b[2m\u001b[32mH6     \u001b[0m\t     Knight: n      |      Pawn: p       \n",
      "\u001b[47m  \u001b[1m     \u001b[0m\u001b[40m  \u001b[1m     \u001b[0m\u001b[47m  \u001b[34m\u001b[1m N   \u001b[0m\u001b[40m  \u001b[1m     \u001b[0m\u001b[47m  \u001b[34m\u001b[1m P   \u001b[0m\u001b[40m  \u001b[31m\u001b[1m P   \u001b[0m\u001b[47m  \u001b[34m\u001b[1m P   \u001b[0m\u001b[40m  \u001b[1m     \u001b[0m\t************* Sample Moves *************\n",
      "\u001b[47m       \u001b[0m\u001b[40m       \u001b[0m\u001b[47m       \u001b[0m\u001b[40m       \u001b[0m\u001b[47m       \u001b[0m\u001b[40m       \u001b[0m\u001b[47m       \u001b[0m\u001b[40m       \u001b[0m\t E2-p-E4  =>   Pawn at E2 move to E4\n",
      "\u001b[40m\u001b[2m\u001b[32mA5     \u001b[0m\u001b[47m\u001b[2m\u001b[32mB5     \u001b[0m\u001b[40m\u001b[2m\u001b[32mC5     \u001b[0m\u001b[47m\u001b[2m\u001b[32mD5     \u001b[0m\u001b[40m\u001b[2m\u001b[32mE5     \u001b[0m\u001b[47m\u001b[2m\u001b[32mF5     \u001b[0m\u001b[40m\u001b[2m\u001b[32mG5     \u001b[0m\u001b[47m\u001b[2m\u001b[32mH5     \u001b[0m\t F1-n-E3  =>   Knight at F1 move to E3\n",
      "\u001b[40m  \u001b[31m\u001b[1m B   \u001b[0m\u001b[47m  \u001b[1m     \u001b[0m\u001b[40m  \u001b[1m     \u001b[0m\u001b[47m  \u001b[1m     \u001b[0m\u001b[40m  \u001b[31m\u001b[1m N   \u001b[0m\u001b[47m  \u001b[1m     \u001b[0m\u001b[40m  \u001b[1m     \u001b[0m\u001b[47m  \u001b[1m     \u001b[0m\t E1-k-D1  =>   King at E1 move to D1\n",
      "\u001b[40m       \u001b[0m\u001b[47m       \u001b[0m\u001b[40m       \u001b[0m\u001b[47m       \u001b[0m\u001b[40m       \u001b[0m\u001b[47m       \u001b[0m\u001b[40m       \u001b[0m\u001b[47m       \u001b[0m\t************* Special Moves *************\n",
      "\u001b[47m\u001b[2m\u001b[32mA4     \u001b[0m\u001b[40m\u001b[2m\u001b[32mB4     \u001b[0m\u001b[47m\u001b[2m\u001b[32mC4     \u001b[0m\u001b[40m\u001b[2m\u001b[32mD4     \u001b[0m\u001b[47m\u001b[2m\u001b[32mE4     \u001b[0m\u001b[40m\u001b[2m\u001b[32mF4     \u001b[0m\u001b[47m\u001b[2m\u001b[32mG4     \u001b[0m\u001b[40m\u001b[2m\u001b[32mH4     \u001b[0m\t- Pawn Promotion:  Indicate returned piece\n",
      "\u001b[47m  \u001b[1m     \u001b[0m\u001b[40m  \u001b[31m\u001b[1m R   \u001b[0m\u001b[47m  \u001b[31m\u001b[1m B   \u001b[0m\u001b[40m  \u001b[1m     \u001b[0m\u001b[47m  \u001b[31m\u001b[1m P   \u001b[0m\u001b[40m  \u001b[1m     \u001b[0m\u001b[47m  \u001b[1m     \u001b[0m\u001b[40m  \u001b[31m\u001b[1m Q   \u001b[0m\t B7-p-B8-q  =>   Promote pawn to queen\n",
      "\u001b[47m       \u001b[0m\u001b[40m       \u001b[0m\u001b[47m       \u001b[0m\u001b[40m       \u001b[0m\u001b[47m       \u001b[0m\u001b[40m       \u001b[0m\u001b[47m       \u001b[0m\u001b[40m       \u001b[0m\t- Castling : Use traditional notation \n",
      "\u001b[40m\u001b[2m\u001b[32mA3     \u001b[0m\u001b[47m\u001b[2m\u001b[32mB3     \u001b[0m\u001b[40m\u001b[2m\u001b[32mC3     \u001b[0m\u001b[47m\u001b[2m\u001b[32mD3     \u001b[0m\u001b[40m\u001b[2m\u001b[32mE3     \u001b[0m\u001b[47m\u001b[2m\u001b[32mF3     \u001b[0m\u001b[40m\u001b[2m\u001b[32mG3     \u001b[0m\u001b[47m\u001b[2m\u001b[32mH3     \u001b[0m\t    O-O  =>      Kingside Rook Castle\n",
      "\u001b[40m  \u001b[1m     \u001b[0m\u001b[47m  \u001b[1m     \u001b[0m\u001b[40m  \u001b[31m\u001b[1m P   \u001b[0m\u001b[47m  \u001b[1m     \u001b[0m\u001b[40m  \u001b[1m     \u001b[0m\u001b[47m  \u001b[31m\u001b[1m R   \u001b[0m\u001b[40m  \u001b[1m     \u001b[0m\u001b[47m  \u001b[1m     \u001b[0m\t   O-O-O  =>     Queenside Rook Castle\n",
      "\u001b[40m       \u001b[0m\u001b[47m       \u001b[0m\u001b[40m       \u001b[0m\u001b[47m       \u001b[0m\u001b[40m       \u001b[0m\u001b[47m       \u001b[0m\u001b[40m       \u001b[0m\u001b[47m       \u001b[0m\t********** Good Luck. Have Fun **********\n",
      "\u001b[47m\u001b[2m\u001b[32mA2     \u001b[0m\u001b[40m\u001b[2m\u001b[32mB2     \u001b[0m\u001b[47m\u001b[2m\u001b[32mC2     \u001b[0m\u001b[40m\u001b[2m\u001b[32mD2     \u001b[0m\u001b[47m\u001b[2m\u001b[32mE2     \u001b[0m\u001b[40m\u001b[2m\u001b[32mF2     \u001b[0m\u001b[47m\u001b[2m\u001b[32mG2     \u001b[0m\u001b[40m\u001b[2m\u001b[32mH2     \u001b[0m\n",
      "\u001b[47m  \u001b[1m     \u001b[0m\u001b[40m  \u001b[31m\u001b[1m P   \u001b[0m\u001b[47m  \u001b[1m     \u001b[0m\u001b[40m  \u001b[1m     \u001b[0m\u001b[47m  \u001b[1m     \u001b[0m\u001b[40m  \u001b[1m     \u001b[0m\u001b[47m  \u001b[31m\u001b[1m P   \u001b[0m\u001b[40m  \u001b[31m\u001b[1m P   \u001b[0m\n",
      "\u001b[47m       \u001b[0m\u001b[40m       \u001b[0m\u001b[47m       \u001b[0m\u001b[40m       \u001b[0m\u001b[47m       \u001b[0m\u001b[40m       \u001b[0m\u001b[47m       \u001b[0m\u001b[40m       \u001b[0m\n",
      "\u001b[40m\u001b[2m\u001b[32mA1     \u001b[0m\u001b[47m\u001b[2m\u001b[32mB1     \u001b[0m\u001b[40m\u001b[2m\u001b[32mC1     \u001b[0m\u001b[47m\u001b[2m\u001b[32mD1     \u001b[0m\u001b[40m\u001b[2m\u001b[32mE1     \u001b[0m\u001b[47m\u001b[2m\u001b[32mF1     \u001b[0m\u001b[40m\u001b[2m\u001b[32mG1     \u001b[0m\u001b[47m\u001b[2m\u001b[32mH1     \u001b[0m\n",
      "\u001b[40m  \u001b[1m     \u001b[0m\u001b[47m  \u001b[1m     \u001b[0m\u001b[40m  \u001b[1m     \u001b[0m\u001b[47m  \u001b[1m     \u001b[0m\u001b[40m  \u001b[1m     \u001b[0m\u001b[47m  \u001b[1m     \u001b[0m\u001b[40m  \u001b[1m     \u001b[0m\u001b[47m  \u001b[31m\u001b[1m K   \u001b[0m\n",
      "\u001b[40m       \u001b[0m\u001b[47m       \u001b[0m\u001b[40m       \u001b[0m\u001b[47m       \u001b[0m\u001b[40m       \u001b[0m\u001b[47m       \u001b[0m\u001b[40m       \u001b[0m\u001b[47m       \u001b[0m\n",
      "\n"
     ]
    }
   ],
   "source": [
    "mvmt_board_1 = test_boards[1]\n",
    "mvmt_board_1 = GameBoard(mvmt_board_1)\n",
    "print(mvmt_board_1)"
   ]
  },
  {
   "cell_type": "code",
   "execution_count": 6,
   "metadata": {},
   "outputs": [
    {
     "name": "stdout",
     "output_type": "stream",
     "text": [
      "\u001b[47m\u001b[2m\u001b[32mA8     \u001b[0m\u001b[40m\u001b[2m\u001b[32mB8     \u001b[0m\u001b[47m\u001b[2m\u001b[32mC8     \u001b[0m\u001b[40m\u001b[2m\u001b[32mD8     \u001b[0m\u001b[47m\u001b[2m\u001b[32mE8     \u001b[0m\u001b[40m\u001b[2m\u001b[32mF8     \u001b[0m\u001b[47m\u001b[2m\u001b[32mG8     \u001b[0m\u001b[40m\u001b[2m\u001b[32mH8     \u001b[0m\t  A Helpful Guide To Entering Your Moves \n",
      "\u001b[47m  \u001b[34m\u001b[1m R   \u001b[0m\u001b[40m  \u001b[34m\u001b[1m N   \u001b[0m\u001b[47m  \u001b[34m\u001b[1m B   \u001b[0m\u001b[40m  \u001b[34m\u001b[1m Q   \u001b[0m\u001b[47m  \u001b[34m\u001b[1m K   \u001b[0m\u001b[40m  \u001b[34m\u001b[1m B   \u001b[0m\u001b[47m  \u001b[34m\u001b[1m N   \u001b[0m\u001b[40m  \u001b[34m\u001b[1m R   \u001b[0m\t*****************************************\n",
      "\u001b[47m       \u001b[0m\u001b[40m       \u001b[0m\u001b[47m       \u001b[0m\u001b[40m       \u001b[0m\u001b[47m       \u001b[0m\u001b[40m       \u001b[0m\u001b[47m       \u001b[0m\u001b[40m       \u001b[0m\t        Syntax: From - Piece - To        \n",
      "\u001b[40m\u001b[2m\u001b[32mA7     \u001b[0m\u001b[47m\u001b[2m\u001b[32mB7     \u001b[0m\u001b[40m\u001b[2m\u001b[32mC7     \u001b[0m\u001b[47m\u001b[2m\u001b[32mD7     \u001b[0m\u001b[40m\u001b[2m\u001b[32mE7     \u001b[0m\u001b[47m\u001b[2m\u001b[32mF7     \u001b[0m\u001b[40m\u001b[2m\u001b[32mG7     \u001b[0m\u001b[47m\u001b[2m\u001b[32mH7     \u001b[0m\t**** Piece Names (Case Insensitive) ****\n",
      "\u001b[40m  \u001b[34m\u001b[1m P   \u001b[0m\u001b[47m  \u001b[1m     \u001b[0m\u001b[40m  \u001b[1m     \u001b[0m\u001b[47m  \u001b[34m\u001b[1m P   \u001b[0m\u001b[40m  \u001b[1m     \u001b[0m\u001b[47m  \u001b[1m     \u001b[0m\u001b[40m  \u001b[34m\u001b[1m P   \u001b[0m\u001b[47m  \u001b[1m     \u001b[0m\t      King: k       |      Queen: q      \n",
      "\u001b[40m       \u001b[0m\u001b[47m       \u001b[0m\u001b[40m       \u001b[0m\u001b[47m       \u001b[0m\u001b[40m       \u001b[0m\u001b[47m       \u001b[0m\u001b[40m       \u001b[0m\u001b[47m       \u001b[0m\t      Rook: r       |     Bishop: b      \n",
      "\u001b[47m\u001b[2m\u001b[32mA6     \u001b[0m\u001b[40m\u001b[2m\u001b[32mB6     \u001b[0m\u001b[47m\u001b[2m\u001b[32mC6     \u001b[0m\u001b[40m\u001b[2m\u001b[32mD6     \u001b[0m\u001b[47m\u001b[2m\u001b[32mE6     \u001b[0m\u001b[40m\u001b[2m\u001b[32mF6     \u001b[0m\u001b[47m\u001b[2m\u001b[32mG6     \u001b[0m\u001b[40m\u001b[2m\u001b[32mH6     \u001b[0m\t     Knight: n      |      Pawn: p       \n",
      "\u001b[47m  \u001b[1m     \u001b[0m\u001b[40m  \u001b[1m     \u001b[0m\u001b[47m  \u001b[34m\u001b[1m P   \u001b[0m\u001b[40m  \u001b[1m     \u001b[0m\u001b[47m  \u001b[1m     \u001b[0m\u001b[40m  \u001b[1m     \u001b[0m\u001b[47m  \u001b[1m     \u001b[0m\u001b[40m  \u001b[1m     \u001b[0m\t************* Sample Moves *************\n",
      "\u001b[47m       \u001b[0m\u001b[40m       \u001b[0m\u001b[47m       \u001b[0m\u001b[40m       \u001b[0m\u001b[47m       \u001b[0m\u001b[40m       \u001b[0m\u001b[47m       \u001b[0m\u001b[40m       \u001b[0m\t E2-p-E4  =>   Pawn at E2 move to E4\n",
      "\u001b[40m\u001b[2m\u001b[32mA5     \u001b[0m\u001b[47m\u001b[2m\u001b[32mB5     \u001b[0m\u001b[40m\u001b[2m\u001b[32mC5     \u001b[0m\u001b[47m\u001b[2m\u001b[32mD5     \u001b[0m\u001b[40m\u001b[2m\u001b[32mE5     \u001b[0m\u001b[47m\u001b[2m\u001b[32mF5     \u001b[0m\u001b[40m\u001b[2m\u001b[32mG5     \u001b[0m\u001b[47m\u001b[2m\u001b[32mH5     \u001b[0m\t F1-n-E3  =>   Knight at F1 move to E3\n",
      "\u001b[40m  \u001b[1m     \u001b[0m\u001b[47m  \u001b[34m\u001b[1m P   \u001b[0m\u001b[40m  \u001b[1m     \u001b[0m\u001b[47m  \u001b[1m     \u001b[0m\u001b[40m  \u001b[34m\u001b[1m P   \u001b[0m\u001b[47m  \u001b[34m\u001b[1m P   \u001b[0m\u001b[40m  \u001b[1m     \u001b[0m\u001b[47m  \u001b[1m     \u001b[0m\t E1-k-D1  =>   King at E1 move to D1\n",
      "\u001b[40m       \u001b[0m\u001b[47m       \u001b[0m\u001b[40m       \u001b[0m\u001b[47m       \u001b[0m\u001b[40m       \u001b[0m\u001b[47m       \u001b[0m\u001b[40m       \u001b[0m\u001b[47m       \u001b[0m\t************* Special Moves *************\n",
      "\u001b[47m\u001b[2m\u001b[32mA4     \u001b[0m\u001b[40m\u001b[2m\u001b[32mB4     \u001b[0m\u001b[47m\u001b[2m\u001b[32mC4     \u001b[0m\u001b[40m\u001b[2m\u001b[32mD4     \u001b[0m\u001b[47m\u001b[2m\u001b[32mE4     \u001b[0m\u001b[40m\u001b[2m\u001b[32mF4     \u001b[0m\u001b[47m\u001b[2m\u001b[32mG4     \u001b[0m\u001b[40m\u001b[2m\u001b[32mH4     \u001b[0m\t- Pawn Promotion:  Indicate returned piece\n",
      "\u001b[47m  \u001b[1m     \u001b[0m\u001b[40m  \u001b[1m     \u001b[0m\u001b[47m  \u001b[31m\u001b[1m P   \u001b[0m\u001b[40m  \u001b[1m     \u001b[0m\u001b[47m  \u001b[31m\u001b[1m P   \u001b[0m\u001b[40m  \u001b[1m     \u001b[0m\u001b[47m  \u001b[1m     \u001b[0m\u001b[40m  \u001b[1m     \u001b[0m\t B7-p-B8-q  =>   Promote pawn to queen\n",
      "\u001b[47m       \u001b[0m\u001b[40m       \u001b[0m\u001b[47m       \u001b[0m\u001b[40m       \u001b[0m\u001b[47m       \u001b[0m\u001b[40m       \u001b[0m\u001b[47m       \u001b[0m\u001b[40m       \u001b[0m\t- Castling : Use traditional notation \n",
      "\u001b[40m\u001b[2m\u001b[32mA3     \u001b[0m\u001b[47m\u001b[2m\u001b[32mB3     \u001b[0m\u001b[40m\u001b[2m\u001b[32mC3     \u001b[0m\u001b[47m\u001b[2m\u001b[32mD3     \u001b[0m\u001b[40m\u001b[2m\u001b[32mE3     \u001b[0m\u001b[47m\u001b[2m\u001b[32mF3     \u001b[0m\u001b[40m\u001b[2m\u001b[32mG3     \u001b[0m\u001b[47m\u001b[2m\u001b[32mH3     \u001b[0m\t    O-O  =>      Kingside Rook Castle\n",
      "\u001b[40m  \u001b[1m     \u001b[0m\u001b[47m  \u001b[31m\u001b[1m P   \u001b[0m\u001b[40m  \u001b[1m     \u001b[0m\u001b[47m  \u001b[31m\u001b[1m P   \u001b[0m\u001b[40m  \u001b[1m     \u001b[0m\u001b[47m  \u001b[31m\u001b[1m P   \u001b[0m\u001b[40m  \u001b[31m\u001b[1m P   \u001b[0m\u001b[47m  \u001b[34m\u001b[1m P   \u001b[0m\t   O-O-O  =>     Queenside Rook Castle\n",
      "\u001b[40m       \u001b[0m\u001b[47m       \u001b[0m\u001b[40m       \u001b[0m\u001b[47m       \u001b[0m\u001b[40m       \u001b[0m\u001b[47m       \u001b[0m\u001b[40m       \u001b[0m\u001b[47m       \u001b[0m\t********** Good Luck. Have Fun **********\n",
      "\u001b[47m\u001b[2m\u001b[32mA2     \u001b[0m\u001b[40m\u001b[2m\u001b[32mB2     \u001b[0m\u001b[47m\u001b[2m\u001b[32mC2     \u001b[0m\u001b[40m\u001b[2m\u001b[32mD2     \u001b[0m\u001b[47m\u001b[2m\u001b[32mE2     \u001b[0m\u001b[40m\u001b[2m\u001b[32mF2     \u001b[0m\u001b[47m\u001b[2m\u001b[32mG2     \u001b[0m\u001b[40m\u001b[2m\u001b[32mH2     \u001b[0m\n",
      "\u001b[47m  \u001b[31m\u001b[1m P   \u001b[0m\u001b[40m  \u001b[1m     \u001b[0m\u001b[47m  \u001b[1m     \u001b[0m\u001b[40m  \u001b[1m     \u001b[0m\u001b[47m  \u001b[1m     \u001b[0m\u001b[40m  \u001b[1m     \u001b[0m\u001b[47m  \u001b[1m     \u001b[0m\u001b[40m  \u001b[31m\u001b[1m P   \u001b[0m\n",
      "\u001b[47m       \u001b[0m\u001b[40m       \u001b[0m\u001b[47m       \u001b[0m\u001b[40m       \u001b[0m\u001b[47m       \u001b[0m\u001b[40m       \u001b[0m\u001b[47m       \u001b[0m\u001b[40m       \u001b[0m\n",
      "\u001b[40m\u001b[2m\u001b[32mA1     \u001b[0m\u001b[47m\u001b[2m\u001b[32mB1     \u001b[0m\u001b[40m\u001b[2m\u001b[32mC1     \u001b[0m\u001b[47m\u001b[2m\u001b[32mD1     \u001b[0m\u001b[40m\u001b[2m\u001b[32mE1     \u001b[0m\u001b[47m\u001b[2m\u001b[32mF1     \u001b[0m\u001b[40m\u001b[2m\u001b[32mG1     \u001b[0m\u001b[47m\u001b[2m\u001b[32mH1     \u001b[0m\n",
      "\u001b[40m  \u001b[31m\u001b[1m R   \u001b[0m\u001b[47m  \u001b[31m\u001b[1m N   \u001b[0m\u001b[40m  \u001b[31m\u001b[1m B   \u001b[0m\u001b[47m  \u001b[31m\u001b[1m Q   \u001b[0m\u001b[40m  \u001b[31m\u001b[1m K   \u001b[0m\u001b[47m  \u001b[31m\u001b[1m B   \u001b[0m\u001b[40m  \u001b[31m\u001b[1m N   \u001b[0m\u001b[47m  \u001b[31m\u001b[1m R   \u001b[0m\n",
      "\u001b[40m       \u001b[0m\u001b[47m       \u001b[0m\u001b[40m       \u001b[0m\u001b[47m       \u001b[0m\u001b[40m       \u001b[0m\u001b[47m       \u001b[0m\u001b[40m       \u001b[0m\u001b[47m       \u001b[0m\n",
      "\n"
     ]
    }
   ],
   "source": [
    "mvmt_board_2 = test_boards[2]\n",
    "mvmt_board_2 = GameBoard(mvmt_board_2)\n",
    "print(mvmt_board_2)"
   ]
  },
  {
   "cell_type": "code",
   "execution_count": 8,
   "metadata": {
    "scrolled": false
   },
   "outputs": [
    {
     "name": "stdout",
     "output_type": "stream",
     "text": [
      "\u001b[47m\u001b[2m\u001b[32mA8     \u001b[0m\u001b[40m\u001b[2m\u001b[32mB8     \u001b[0m\u001b[47m\u001b[2m\u001b[32mC8     \u001b[0m\u001b[40m\u001b[2m\u001b[32mD8     \u001b[0m\u001b[47m\u001b[2m\u001b[32mE8     \u001b[0m\u001b[40m\u001b[2m\u001b[32mF8     \u001b[0m\u001b[47m\u001b[2m\u001b[32mG8     \u001b[0m\u001b[40m\u001b[2m\u001b[32mH8     \u001b[0m\t  A Helpful Guide To Entering Your Moves \n",
      "\u001b[47m  \u001b[34m\u001b[1m R   \u001b[0m\u001b[40m  \u001b[1m     \u001b[0m\u001b[47m  \u001b[34m\u001b[1m B   \u001b[0m\u001b[40m  \u001b[1m     \u001b[0m\u001b[47m  \u001b[34m\u001b[1m K   \u001b[0m\u001b[40m  \u001b[1m     \u001b[0m\u001b[47m  \u001b[1m     \u001b[0m\u001b[40m  \u001b[1m     \u001b[0m\t*****************************************\n",
      "\u001b[47m       \u001b[0m\u001b[40m       \u001b[0m\u001b[47m       \u001b[0m\u001b[40m       \u001b[0m\u001b[47m       \u001b[0m\u001b[40m       \u001b[0m\u001b[47m       \u001b[0m\u001b[40m       \u001b[0m\t        Syntax: From - Piece - To        \n",
      "\u001b[40m\u001b[2m\u001b[32mA7     \u001b[0m\u001b[47m\u001b[2m\u001b[32mB7     \u001b[0m\u001b[40m\u001b[2m\u001b[32mC7     \u001b[0m\u001b[47m\u001b[2m\u001b[32mD7     \u001b[0m\u001b[40m\u001b[2m\u001b[32mE7     \u001b[0m\u001b[47m\u001b[2m\u001b[32mF7     \u001b[0m\u001b[40m\u001b[2m\u001b[32mG7     \u001b[0m\u001b[47m\u001b[2m\u001b[32mH7     \u001b[0m\t**** Piece Names (Case Insensitive) ****\n",
      "\u001b[40m  \u001b[34m\u001b[1m N   \u001b[0m\u001b[47m  \u001b[1m     \u001b[0m\u001b[40m  \u001b[34m\u001b[1m P   \u001b[0m\u001b[47m  \u001b[1m     \u001b[0m\u001b[40m  \u001b[31m\u001b[1m P   \u001b[0m\u001b[47m  \u001b[1m     \u001b[0m\u001b[40m  \u001b[34m\u001b[1m P   \u001b[0m\u001b[47m  \u001b[31m\u001b[1m P   \u001b[0m\t      King: k       |      Queen: q      \n",
      "\u001b[40m       \u001b[0m\u001b[47m       \u001b[0m\u001b[40m       \u001b[0m\u001b[47m       \u001b[0m\u001b[40m       \u001b[0m\u001b[47m       \u001b[0m\u001b[40m       \u001b[0m\u001b[47m       \u001b[0m\t      Rook: r       |     Bishop: b      \n",
      "\u001b[47m\u001b[2m\u001b[32mA6     \u001b[0m\u001b[40m\u001b[2m\u001b[32mB6     \u001b[0m\u001b[47m\u001b[2m\u001b[32mC6     \u001b[0m\u001b[40m\u001b[2m\u001b[32mD6     \u001b[0m\u001b[47m\u001b[2m\u001b[32mE6     \u001b[0m\u001b[40m\u001b[2m\u001b[32mF6     \u001b[0m\u001b[47m\u001b[2m\u001b[32mG6     \u001b[0m\u001b[40m\u001b[2m\u001b[32mH6     \u001b[0m\t     Knight: n      |      Pawn: p       \n",
      "\u001b[47m  \u001b[1m     \u001b[0m\u001b[40m  \u001b[31m\u001b[1m P   \u001b[0m\u001b[47m  \u001b[34m\u001b[1m P   \u001b[0m\u001b[40m  \u001b[31m\u001b[1m P   \u001b[0m\u001b[47m  \u001b[1m     \u001b[0m\u001b[40m  \u001b[34m\u001b[1m N   \u001b[0m\u001b[47m  \u001b[34m\u001b[1m B   \u001b[0m\u001b[40m  \u001b[1m     \u001b[0m\t************* Sample Moves *************\n",
      "\u001b[47m       \u001b[0m\u001b[40m       \u001b[0m\u001b[47m       \u001b[0m\u001b[40m       \u001b[0m\u001b[47m       \u001b[0m\u001b[40m       \u001b[0m\u001b[47m       \u001b[0m\u001b[40m       \u001b[0m\t E2-p-E4  =>   Pawn at E2 move to E4\n",
      "\u001b[40m\u001b[2m\u001b[32mA5     \u001b[0m\u001b[47m\u001b[2m\u001b[32mB5     \u001b[0m\u001b[40m\u001b[2m\u001b[32mC5     \u001b[0m\u001b[47m\u001b[2m\u001b[32mD5     \u001b[0m\u001b[40m\u001b[2m\u001b[32mE5     \u001b[0m\u001b[47m\u001b[2m\u001b[32mF5     \u001b[0m\u001b[40m\u001b[2m\u001b[32mG5     \u001b[0m\u001b[47m\u001b[2m\u001b[32mH5     \u001b[0m\t F1-n-E3  =>   Knight at F1 move to E3\n",
      "\u001b[40m  \u001b[1m     \u001b[0m\u001b[47m  \u001b[1m     \u001b[0m\u001b[40m  \u001b[1m     \u001b[0m\u001b[47m  \u001b[1m     \u001b[0m\u001b[40m  \u001b[34m\u001b[1m Q   \u001b[0m\u001b[47m  \u001b[31m\u001b[1m P   \u001b[0m\u001b[40m  \u001b[1m     \u001b[0m\u001b[47m  \u001b[34m\u001b[1m R   \u001b[0m\t E1-k-D1  =>   King at E1 move to D1\n",
      "\u001b[40m       \u001b[0m\u001b[47m       \u001b[0m\u001b[40m       \u001b[0m\u001b[47m       \u001b[0m\u001b[40m       \u001b[0m\u001b[47m       \u001b[0m\u001b[40m       \u001b[0m\u001b[47m       \u001b[0m\t************* Special Moves *************\n",
      "\u001b[47m\u001b[2m\u001b[32mA4     \u001b[0m\u001b[40m\u001b[2m\u001b[32mB4     \u001b[0m\u001b[47m\u001b[2m\u001b[32mC4     \u001b[0m\u001b[40m\u001b[2m\u001b[32mD4     \u001b[0m\u001b[47m\u001b[2m\u001b[32mE4     \u001b[0m\u001b[40m\u001b[2m\u001b[32mF4     \u001b[0m\u001b[47m\u001b[2m\u001b[32mG4     \u001b[0m\u001b[40m\u001b[2m\u001b[32mH4     \u001b[0m\t- Pawn Promotion:  Indicate returned piece\n",
      "\u001b[47m  \u001b[1m     \u001b[0m\u001b[40m  \u001b[34m\u001b[1m P   \u001b[0m\u001b[47m  \u001b[1m     \u001b[0m\u001b[40m  \u001b[1m     \u001b[0m\u001b[47m  \u001b[31m\u001b[1m P   \u001b[0m\u001b[40m  \u001b[1m     \u001b[0m\u001b[47m  \u001b[1m     \u001b[0m\u001b[40m  \u001b[1m     \u001b[0m\t B7-p-B8-q  =>   Promote pawn to queen\n",
      "\u001b[47m       \u001b[0m\u001b[40m       \u001b[0m\u001b[47m       \u001b[0m\u001b[40m       \u001b[0m\u001b[47m       \u001b[0m\u001b[40m       \u001b[0m\u001b[47m       \u001b[0m\u001b[40m       \u001b[0m\t- Castling : Use traditional notation \n",
      "\u001b[40m\u001b[2m\u001b[32mA3     \u001b[0m\u001b[47m\u001b[2m\u001b[32mB3     \u001b[0m\u001b[40m\u001b[2m\u001b[32mC3     \u001b[0m\u001b[47m\u001b[2m\u001b[32mD3     \u001b[0m\u001b[40m\u001b[2m\u001b[32mE3     \u001b[0m\u001b[47m\u001b[2m\u001b[32mF3     \u001b[0m\u001b[40m\u001b[2m\u001b[32mG3     \u001b[0m\u001b[47m\u001b[2m\u001b[32mH3     \u001b[0m\t    O-O  =>      Kingside Rook Castle\n",
      "\u001b[40m  \u001b[34m\u001b[1m P   \u001b[0m\u001b[47m  \u001b[31m\u001b[1m P   \u001b[0m\u001b[40m  \u001b[1m     \u001b[0m\u001b[47m  \u001b[1m     \u001b[0m\u001b[40m  \u001b[1m     \u001b[0m\u001b[47m  \u001b[31m\u001b[1m N   \u001b[0m\u001b[40m  \u001b[1m     \u001b[0m\u001b[47m  \u001b[1m     \u001b[0m\t   O-O-O  =>     Queenside Rook Castle\n",
      "\u001b[40m       \u001b[0m\u001b[47m       \u001b[0m\u001b[40m       \u001b[0m\u001b[47m       \u001b[0m\u001b[40m       \u001b[0m\u001b[47m       \u001b[0m\u001b[40m       \u001b[0m\u001b[47m       \u001b[0m\t********** Good Luck. Have Fun **********\n",
      "\u001b[47m\u001b[2m\u001b[32mA2     \u001b[0m\u001b[40m\u001b[2m\u001b[32mB2     \u001b[0m\u001b[47m\u001b[2m\u001b[32mC2     \u001b[0m\u001b[40m\u001b[2m\u001b[32mD2     \u001b[0m\u001b[47m\u001b[2m\u001b[32mE2     \u001b[0m\u001b[40m\u001b[2m\u001b[32mF2     \u001b[0m\u001b[47m\u001b[2m\u001b[32mG2     \u001b[0m\u001b[40m\u001b[2m\u001b[32mH2     \u001b[0m\n",
      "\u001b[47m  \u001b[34m\u001b[1m P   \u001b[0m\u001b[40m  \u001b[31m\u001b[1m P   \u001b[0m\u001b[47m  \u001b[34m\u001b[1m P   \u001b[0m\u001b[40m  \u001b[1m     \u001b[0m\u001b[47m  \u001b[34m\u001b[1m P   \u001b[0m\u001b[40m  \u001b[1m     \u001b[0m\u001b[47m  \u001b[1m     \u001b[0m\u001b[40m  \u001b[1m     \u001b[0m\n",
      "\u001b[47m       \u001b[0m\u001b[40m       \u001b[0m\u001b[47m       \u001b[0m\u001b[40m       \u001b[0m\u001b[47m       \u001b[0m\u001b[40m       \u001b[0m\u001b[47m       \u001b[0m\u001b[40m       \u001b[0m\n",
      "\u001b[40m\u001b[2m\u001b[32mA1     \u001b[0m\u001b[47m\u001b[2m\u001b[32mB1     \u001b[0m\u001b[40m\u001b[2m\u001b[32mC1     \u001b[0m\u001b[47m\u001b[2m\u001b[32mD1     \u001b[0m\u001b[40m\u001b[2m\u001b[32mE1     \u001b[0m\u001b[47m\u001b[2m\u001b[32mF1     \u001b[0m\u001b[40m\u001b[2m\u001b[32mG1     \u001b[0m\u001b[47m\u001b[2m\u001b[32mH1     \u001b[0m\n",
      "\u001b[40m  \u001b[31m\u001b[1m R   \u001b[0m\u001b[47m  \u001b[31m\u001b[1m N   \u001b[0m\u001b[40m  \u001b[31m\u001b[1m B   \u001b[0m\u001b[47m  \u001b[31m\u001b[1m Q   \u001b[0m\u001b[40m  \u001b[31m\u001b[1m K   \u001b[0m\u001b[47m  \u001b[31m\u001b[1m B   \u001b[0m\u001b[40m  \u001b[1m     \u001b[0m\u001b[47m  \u001b[31m\u001b[1m R   \u001b[0m\n",
      "\u001b[40m       \u001b[0m\u001b[47m       \u001b[0m\u001b[40m       \u001b[0m\u001b[47m       \u001b[0m\u001b[40m       \u001b[0m\u001b[47m       \u001b[0m\u001b[40m       \u001b[0m\u001b[47m       \u001b[0m\n",
      "\n"
     ]
    }
   ],
   "source": [
    "mvmt_board_3 = test_boards[3]\n",
    "mvmt_board_3 = GameBoard(mvmt_board_3)\n",
    "print(mvmt_board_3)"
   ]
  },
  {
   "cell_type": "code",
   "execution_count": 10,
   "metadata": {},
   "outputs": [
    {
     "name": "stdout",
     "output_type": "stream",
     "text": [
      "\u001b[47m\u001b[2m\u001b[32mA8     \u001b[0m\u001b[40m\u001b[2m\u001b[32mB8     \u001b[0m\u001b[47m\u001b[2m\u001b[32mC8     \u001b[0m\u001b[40m\u001b[2m\u001b[32mD8     \u001b[0m\u001b[47m\u001b[2m\u001b[32mE8     \u001b[0m\u001b[40m\u001b[2m\u001b[32mF8     \u001b[0m\u001b[47m\u001b[2m\u001b[32mG8     \u001b[0m\u001b[40m\u001b[2m\u001b[32mH8     \u001b[0m\t  A Helpful Guide To Entering Your Moves \n",
      "\u001b[47m  \u001b[1m     \u001b[0m\u001b[40m  \u001b[1m     \u001b[0m\u001b[47m  \u001b[34m\u001b[1m R   \u001b[0m\u001b[40m  \u001b[34m\u001b[1m R   \u001b[0m\u001b[47m  \u001b[1m     \u001b[0m\u001b[40m  \u001b[1m     \u001b[0m\u001b[47m  \u001b[34m\u001b[1m K   \u001b[0m\u001b[40m  \u001b[1m     \u001b[0m\t*****************************************\n",
      "\u001b[47m       \u001b[0m\u001b[40m       \u001b[0m\u001b[47m       \u001b[0m\u001b[40m       \u001b[0m\u001b[47m       \u001b[0m\u001b[40m       \u001b[0m\u001b[47m       \u001b[0m\u001b[40m       \u001b[0m\t        Syntax: From - Piece - To        \n",
      "\u001b[40m\u001b[2m\u001b[32mA7     \u001b[0m\u001b[47m\u001b[2m\u001b[32mB7     \u001b[0m\u001b[40m\u001b[2m\u001b[32mC7     \u001b[0m\u001b[47m\u001b[2m\u001b[32mD7     \u001b[0m\u001b[40m\u001b[2m\u001b[32mE7     \u001b[0m\u001b[47m\u001b[2m\u001b[32mF7     \u001b[0m\u001b[40m\u001b[2m\u001b[32mG7     \u001b[0m\u001b[47m\u001b[2m\u001b[32mH7     \u001b[0m\t**** Piece Names (Case Insensitive) ****\n",
      "\u001b[40m  \u001b[1m     \u001b[0m\u001b[47m  \u001b[34m\u001b[1m P   \u001b[0m\u001b[40m  \u001b[1m     \u001b[0m\u001b[47m  \u001b[1m     \u001b[0m\u001b[40m  \u001b[1m     \u001b[0m\u001b[47m  \u001b[34m\u001b[1m P   \u001b[0m\u001b[40m  \u001b[34m\u001b[1m P   \u001b[0m\u001b[47m  \u001b[34m\u001b[1m P   \u001b[0m\t      King: k       |      Queen: q      \n",
      "\u001b[40m       \u001b[0m\u001b[47m       \u001b[0m\u001b[40m       \u001b[0m\u001b[47m       \u001b[0m\u001b[40m       \u001b[0m\u001b[47m       \u001b[0m\u001b[40m       \u001b[0m\u001b[47m       \u001b[0m\t      Rook: r       |     Bishop: b      \n",
      "\u001b[47m\u001b[2m\u001b[32mA6     \u001b[0m\u001b[40m\u001b[2m\u001b[32mB6     \u001b[0m\u001b[47m\u001b[2m\u001b[32mC6     \u001b[0m\u001b[40m\u001b[2m\u001b[32mD6     \u001b[0m\u001b[47m\u001b[2m\u001b[32mE6     \u001b[0m\u001b[40m\u001b[2m\u001b[32mF6     \u001b[0m\u001b[47m\u001b[2m\u001b[32mG6     \u001b[0m\u001b[40m\u001b[2m\u001b[32mH6     \u001b[0m\t     Knight: n      |      Pawn: p       \n",
      "\u001b[47m  \u001b[34m\u001b[1m P   \u001b[0m\u001b[40m  \u001b[1m     \u001b[0m\u001b[47m  \u001b[1m     \u001b[0m\u001b[40m  \u001b[1m     \u001b[0m\u001b[47m  \u001b[34m\u001b[1m P   \u001b[0m\u001b[40m  \u001b[1m     \u001b[0m\u001b[47m  \u001b[1m     \u001b[0m\u001b[40m  \u001b[1m     \u001b[0m\t************* Sample Moves *************\n",
      "\u001b[47m       \u001b[0m\u001b[40m       \u001b[0m\u001b[47m       \u001b[0m\u001b[40m       \u001b[0m\u001b[47m       \u001b[0m\u001b[40m       \u001b[0m\u001b[47m       \u001b[0m\u001b[40m       \u001b[0m\t E2-p-E4  =>   Pawn at E2 move to E4\n",
      "\u001b[40m\u001b[2m\u001b[32mA5     \u001b[0m\u001b[47m\u001b[2m\u001b[32mB5     \u001b[0m\u001b[40m\u001b[2m\u001b[32mC5     \u001b[0m\u001b[47m\u001b[2m\u001b[32mD5     \u001b[0m\u001b[40m\u001b[2m\u001b[32mE5     \u001b[0m\u001b[47m\u001b[2m\u001b[32mF5     \u001b[0m\u001b[40m\u001b[2m\u001b[32mG5     \u001b[0m\u001b[47m\u001b[2m\u001b[32mH5     \u001b[0m\t F1-n-E3  =>   Knight at F1 move to E3\n",
      "\u001b[40m  \u001b[1m     \u001b[0m\u001b[47m  \u001b[34m\u001b[1m B   \u001b[0m\u001b[40m  \u001b[1m     \u001b[0m\u001b[47m  \u001b[1m     \u001b[0m\u001b[40m  \u001b[1m     \u001b[0m\u001b[47m  \u001b[1m     \u001b[0m\u001b[40m  \u001b[1m     \u001b[0m\u001b[47m  \u001b[1m     \u001b[0m\t E1-k-D1  =>   King at E1 move to D1\n",
      "\u001b[40m       \u001b[0m\u001b[47m       \u001b[0m\u001b[40m       \u001b[0m\u001b[47m       \u001b[0m\u001b[40m       \u001b[0m\u001b[47m       \u001b[0m\u001b[40m       \u001b[0m\u001b[47m       \u001b[0m\t************* Special Moves *************\n",
      "\u001b[47m\u001b[2m\u001b[32mA4     \u001b[0m\u001b[40m\u001b[2m\u001b[32mB4     \u001b[0m\u001b[47m\u001b[2m\u001b[32mC4     \u001b[0m\u001b[40m\u001b[2m\u001b[32mD4     \u001b[0m\u001b[47m\u001b[2m\u001b[32mE4     \u001b[0m\u001b[40m\u001b[2m\u001b[32mF4     \u001b[0m\u001b[47m\u001b[2m\u001b[32mG4     \u001b[0m\u001b[40m\u001b[2m\u001b[32mH4     \u001b[0m\t- Pawn Promotion:  Indicate returned piece\n",
      "\u001b[47m  \u001b[1m     \u001b[0m\u001b[40m  \u001b[1m     \u001b[0m\u001b[47m  \u001b[1m     \u001b[0m\u001b[40m  \u001b[31m\u001b[1m B   \u001b[0m\u001b[47m  \u001b[1m     \u001b[0m\u001b[40m  \u001b[31m\u001b[1m P   \u001b[0m\u001b[47m  \u001b[1m     \u001b[0m\u001b[40m  \u001b[1m     \u001b[0m\t B7-p-B8-q  =>   Promote pawn to queen\n",
      "\u001b[47m       \u001b[0m\u001b[40m       \u001b[0m\u001b[47m       \u001b[0m\u001b[40m       \u001b[0m\u001b[47m       \u001b[0m\u001b[40m       \u001b[0m\u001b[47m       \u001b[0m\u001b[40m       \u001b[0m\t- Castling : Use traditional notation \n",
      "\u001b[40m\u001b[2m\u001b[32mA3     \u001b[0m\u001b[47m\u001b[2m\u001b[32mB3     \u001b[0m\u001b[40m\u001b[2m\u001b[32mC3     \u001b[0m\u001b[47m\u001b[2m\u001b[32mD3     \u001b[0m\u001b[40m\u001b[2m\u001b[32mE3     \u001b[0m\u001b[47m\u001b[2m\u001b[32mF3     \u001b[0m\u001b[40m\u001b[2m\u001b[32mG3     \u001b[0m\u001b[47m\u001b[2m\u001b[32mH3     \u001b[0m\t    O-O  =>      Kingside Rook Castle\n",
      "\u001b[40m  \u001b[31m\u001b[1m P   \u001b[0m\u001b[47m  \u001b[31m\u001b[1m P   \u001b[0m\u001b[40m  \u001b[1m     \u001b[0m\u001b[47m  \u001b[31m\u001b[1m Q   \u001b[0m\u001b[40m  \u001b[34m\u001b[1m P   \u001b[0m\u001b[47m  \u001b[1m     \u001b[0m\u001b[40m  \u001b[31m\u001b[1m P   \u001b[0m\u001b[47m  \u001b[1m     \u001b[0m\t   O-O-O  =>     Queenside Rook Castle\n",
      "\u001b[40m       \u001b[0m\u001b[47m       \u001b[0m\u001b[40m       \u001b[0m\u001b[47m       \u001b[0m\u001b[40m       \u001b[0m\u001b[47m       \u001b[0m\u001b[40m       \u001b[0m\u001b[47m       \u001b[0m\t********** Good Luck. Have Fun **********\n",
      "\u001b[47m\u001b[2m\u001b[32mA2     \u001b[0m\u001b[40m\u001b[2m\u001b[32mB2     \u001b[0m\u001b[47m\u001b[2m\u001b[32mC2     \u001b[0m\u001b[40m\u001b[2m\u001b[32mD2     \u001b[0m\u001b[47m\u001b[2m\u001b[32mE2     \u001b[0m\u001b[40m\u001b[2m\u001b[32mF2     \u001b[0m\u001b[47m\u001b[2m\u001b[32mG2     \u001b[0m\u001b[40m\u001b[2m\u001b[32mH2     \u001b[0m\n",
      "\u001b[47m  \u001b[1m     \u001b[0m\u001b[40m  \u001b[34m\u001b[1m Q   \u001b[0m\u001b[47m  \u001b[31m\u001b[1m P   \u001b[0m\u001b[40m  \u001b[1m     \u001b[0m\u001b[47m  \u001b[1m     \u001b[0m\u001b[40m  \u001b[1m     \u001b[0m\u001b[47m  \u001b[1m     \u001b[0m\u001b[40m  \u001b[31m\u001b[1m P   \u001b[0m\n",
      "\u001b[47m       \u001b[0m\u001b[40m       \u001b[0m\u001b[47m       \u001b[0m\u001b[40m       \u001b[0m\u001b[47m       \u001b[0m\u001b[40m       \u001b[0m\u001b[47m       \u001b[0m\u001b[40m       \u001b[0m\n",
      "\u001b[40m\u001b[2m\u001b[32mA1     \u001b[0m\u001b[47m\u001b[2m\u001b[32mB1     \u001b[0m\u001b[40m\u001b[2m\u001b[32mC1     \u001b[0m\u001b[47m\u001b[2m\u001b[32mD1     \u001b[0m\u001b[40m\u001b[2m\u001b[32mE1     \u001b[0m\u001b[47m\u001b[2m\u001b[32mF1     \u001b[0m\u001b[40m\u001b[2m\u001b[32mG1     \u001b[0m\u001b[47m\u001b[2m\u001b[32mH1     \u001b[0m\n",
      "\u001b[40m  \u001b[31m\u001b[1m R   \u001b[0m\u001b[47m  \u001b[1m     \u001b[0m\u001b[40m  \u001b[1m     \u001b[0m\u001b[47m  \u001b[31m\u001b[1m R   \u001b[0m\u001b[40m  \u001b[1m     \u001b[0m\u001b[47m  \u001b[1m     \u001b[0m\u001b[40m  \u001b[31m\u001b[1m K   \u001b[0m\u001b[47m  \u001b[1m     \u001b[0m\n",
      "\u001b[40m       \u001b[0m\u001b[47m       \u001b[0m\u001b[40m       \u001b[0m\u001b[47m       \u001b[0m\u001b[40m       \u001b[0m\u001b[47m       \u001b[0m\u001b[40m       \u001b[0m\u001b[47m       \u001b[0m\n",
      "\n"
     ]
    }
   ],
   "source": [
    "mvmt_board_4 = test_boards[4]\n",
    "mvmt_board_4 = GameBoard(mvmt_board_4)\n",
    "print(mvmt_board_4)"
   ]
  },
  {
   "cell_type": "code",
   "execution_count": null,
   "metadata": {},
   "outputs": [],
   "source": []
  }
 ],
 "metadata": {
  "kernelspec": {
   "display_name": "Python 3",
   "language": "python",
   "name": "python3"
  },
  "language_info": {
   "codemirror_mode": {
    "name": "ipython",
    "version": 3
   },
   "file_extension": ".py",
   "mimetype": "text/x-python",
   "name": "python",
   "nbconvert_exporter": "python",
   "pygments_lexer": "ipython3",
   "version": "3.8.3"
  }
 },
 "nbformat": 4,
 "nbformat_minor": 4
}
